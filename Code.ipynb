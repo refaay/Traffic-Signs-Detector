{
 "cells": [
  {
   "cell_type": "code",
   "execution_count": 3,
   "metadata": {},
   "outputs": [],
   "source": [
    "# Python 2/3 compatibility\n",
    "from __future__ import print_function\n",
    " # Needed Libraries\n",
    "import cv2\n",
    "import numpy as np\n",
    "import sys\n",
    "import math\n",
    "from numpy import unravel_index"
   ]
  },
  {
   "cell_type": "code",
   "execution_count": 2,
   "metadata": {},
   "outputs": [
    {
     "ename": "NameError",
     "evalue": "name 'cv2' is not defined",
     "output_type": "error",
     "traceback": [
      "\u001b[1;31m---------------------------------------------------------------------------\u001b[0m",
      "\u001b[1;31mNameError\u001b[0m                                 Traceback (most recent call last)",
      "\u001b[1;32m<ipython-input-2-f43db83307cd>\u001b[0m in \u001b[0;36m<module>\u001b[1;34m()\u001b[0m\n\u001b[0;32m      7\u001b[0m \u001b[0mresizef\u001b[0m \u001b[1;33m=\u001b[0m \u001b[1;36m2\u001b[0m \u001b[1;31m# resizing\u001b[0m\u001b[1;33m\u001b[0m\u001b[0m\n\u001b[0;32m      8\u001b[0m \u001b[1;31m# Preprocessing\u001b[0m\u001b[1;33m\u001b[0m\u001b[1;33m\u001b[0m\u001b[0m\n\u001b[1;32m----> 9\u001b[1;33m \u001b[0mimg0\u001b[0m \u001b[1;33m=\u001b[0m \u001b[0mcv2\u001b[0m\u001b[1;33m.\u001b[0m\u001b[0mimread\u001b[0m\u001b[1;33m(\u001b[0m\u001b[0mimname\u001b[0m\u001b[1;33m)\u001b[0m \u001b[1;31m# Read image\u001b[0m\u001b[1;33m\u001b[0m\u001b[0m\n\u001b[0m\u001b[0;32m     10\u001b[0m \u001b[0mimgl\u001b[0m\u001b[1;33m,\u001b[0m \u001b[0mimgw\u001b[0m \u001b[1;33m=\u001b[0m \u001b[0mimg0\u001b[0m\u001b[1;33m.\u001b[0m\u001b[0mshape\u001b[0m\u001b[1;33m[\u001b[0m\u001b[1;33m:\u001b[0m\u001b[1;36m2\u001b[0m\u001b[1;33m]\u001b[0m\u001b[1;33m\u001b[0m\u001b[0m\n\u001b[0;32m     11\u001b[0m \u001b[0mimgl\u001b[0m\u001b[1;33m=\u001b[0m\u001b[0mint\u001b[0m\u001b[1;33m(\u001b[0m\u001b[0mimgl\u001b[0m\u001b[1;33m/\u001b[0m\u001b[0mresizef\u001b[0m\u001b[1;33m)\u001b[0m\u001b[1;33m\u001b[0m\u001b[0m\n",
      "\u001b[1;31mNameError\u001b[0m: name 'cv2' is not defined"
     ]
    }
   ],
   "source": [
    "# Status: need ground truth, consider 2 in one image, max detected around 22, play with margins\n",
    "#HSV colors: http://colorizer.org/\n",
    "#doesn't work on 0003, second one in 0007, \n",
    "#(23, 25): 0003, 0010, (0012, 0017, 0018 not checked), 25\n",
    "# got 25 on red = 0, 12\n",
    "imname = 'Images/Am_Rojo0025.jpg'\n",
    "resizef = 2 # resizing\n",
    "# Preprocessing\n",
    "img0 = cv2.imread(imname) # Read image\n",
    "imgl, imgw = img0.shape[:2]\n",
    "imgl=int(imgl/resizef)\n",
    "imgw=int(imgw/resizef)\n",
    "img = cv2.resize(img0,(imgw, imgl), interpolation = cv2.INTER_CUBIC) # Resizing image\n",
    "hsv = cv2.cvtColor(img, cv2.COLOR_BGR2HSV)\n",
    "\n",
    "# black color\n",
    "blacked = np.array([0,0,0]) \n",
    "\n",
    "# red mask\n",
    "lower_red = np.array([0,125,75])\n",
    "upper_red = np.array([10,255,255])\n",
    "maskr = cv2.inRange(hsv, lower_red, upper_red)\n",
    "\n",
    "# yellow mask\n",
    "lower_yellow = np.array([22, 150,100])\n",
    "upper_yellow = np.array([25,255,255])\n",
    "masky = cv2.inRange(hsv, lower_yellow, upper_yellow)\n",
    "\n",
    "mask = maskr+masky # adding the masks\n",
    "\n",
    "res = cv2.bitwise_and(img,img, mask= mask) # anding input with mask\n",
    "grayres = cv2.cvtColor(res,cv2.COLOR_BGR2GRAY) # Convert to gray scale\n",
    "\n",
    "# Show images\n",
    "cv2.imshow('image',img)\n",
    "cv2.waitKey(0)\n",
    "cv2.destroyAllWindows()\n",
    "cv2.imshow('res',res)\n",
    "cv2.waitKey(0)\n",
    "cv2.destroyAllWindows()\n",
    "cv2.imwrite('Sample Outputs/res0.jpg',res) # Save edges\n",
    "\n",
    "\n",
    "print('shape = ',res.shape)"
   ]
  },
  {
   "cell_type": "code",
   "execution_count": null,
   "metadata": {
    "collapsed": true
   },
   "outputs": [],
   "source": []
  },
  {
   "cell_type": "code",
   "execution_count": 3,
   "metadata": {},
   "outputs": [
    {
     "name": "stdout",
     "output_type": "stream",
     "text": [
      "407\n"
     ]
    }
   ],
   "source": [
    "# \n",
    "count = 0\n",
    "for i in range (0, imgl):\n",
    "    for j in range (0, imgw):\n",
    "        if (res[i][j][2] != 0): # not black\n",
    "            count+=1\n",
    "print(count)"
   ]
  },
  {
   "cell_type": "code",
   "execution_count": 4,
   "metadata": {},
   "outputs": [
    {
     "name": "stdout",
     "output_type": "stream",
     "text": [
      "62\n"
     ]
    }
   ],
   "source": [
    "label = 2 # current new label\n",
    "labels = np.zeros((imgl, imgw)) # 2D array of labels\n",
    "# Put labels\n",
    "equality = [[1]]\n",
    "l1, l2, l3, l4 = 0, 0, 0, 0\n",
    "for i in range (0, imgl):\n",
    "    for j in range (0, imgw):\n",
    "        if (res[i][j][2] != 0): # not black\n",
    "            if(i-1>=0 and j-1>=0 and j+1<imgw): # away from edges, get neighbor labels\n",
    "                l1 = labels[i-1][j-1]\n",
    "                l2 = labels[i-1][j]\n",
    "                l3 = labels[i-1][j+1]\n",
    "                l4 = labels[i][j-1]\n",
    "                flag = True\n",
    "                # append to equality table\n",
    "                for entry in equality:\n",
    "                    if(flag):\n",
    "                        for enn in entry:\n",
    "                            if(flag):\n",
    "                                if(int(enn) == int(l1)):\n",
    "                                    flag = False\n",
    "                                    labels[i][j] = entry[0] # append as the first label\n",
    "                                    if(l2 != 0 and l2 != l1 and l2 not in entry): entry.append(l2)\n",
    "                                    if (l3 != 0 and l3 != l1 and l3 not in entry): entry.append(l3)\n",
    "                                    if (l4 != 0 and l4 != l1 and l4 not in entry): entry.append(l4)\n",
    "                                elif (int(enn) == int(l2)):\n",
    "                                    flag = False\n",
    "                                    labels[i][j] = entry[0] # append as the first label\n",
    "                                    if(l1 != 0 and l2 != l1 and l1 not in entry): entry.append(l1)\n",
    "                                    if (l3 != 0 and l2 != l3 and l3 not in entry): entry.append(l3)\n",
    "                                    if (l4 != 0 and l2 != l4 and l4 not in entry): entry.append(l4)\n",
    "                                elif (int(enn) == int(l3)):\n",
    "                                    flag = False\n",
    "                                    labels[i][j] = entry[0] # append as the first label\n",
    "                                    if(l2 != 0 and l2 != l3 and l2 not in entry): entry.append(l2)\n",
    "                                    if (l1 != 0 and l3 != l1 and l1 not in entry): entry.append(l1)\n",
    "                                    if (l4 != 0 and l3 != l4 and l4 not in entry): entry.append(l4)\n",
    "                                elif (int(enn) == int(l4)):\n",
    "                                    flag = False\n",
    "                                    labels[i][j] = entry[0] # append as the first label\n",
    "                                    if(l2 != 0 and l2 != l4 and l2 not in entry): entry.append(l2)\n",
    "                                    if (l3 != 0 and l4 != l3 and l3 not in entry): entry.append(l3)\n",
    "                                    if (l1 != 0 and l4 != l1 and l1 not in entry): entry.append(l1)\n",
    "                \n",
    "                if(flag):\n",
    "                    labels[i][j] = label\n",
    "                    equality.append([label])\n",
    "                    label += 1\n",
    "print(label)\n",
    "#cv2.imshow('labels',labels)\n",
    "#cv2.waitKey(0)\n",
    "#cv2.destroyAllWindows()"
   ]
  },
  {
   "cell_type": "code",
   "execution_count": 5,
   "metadata": {
    "collapsed": true
   },
   "outputs": [],
   "source": [
    "#print(equality)"
   ]
  },
  {
   "cell_type": "code",
   "execution_count": 6,
   "metadata": {},
   "outputs": [
    {
     "name": "stdout",
     "output_type": "stream",
     "text": [
      "19 137\n"
     ]
    }
   ],
   "source": [
    "# Get max count\n",
    "maxi = 0\n",
    "maximum = 0\n",
    "cc = 0\n",
    "ii = 0\n",
    "\n",
    "for entry in equality:\n",
    "    cc = 0\n",
    "    flag = True\n",
    "    for enn in entry:\n",
    "        if(flag):\n",
    "            for i in range (0, imgl):\n",
    "                for j in range (0, imgw):\n",
    "                    if (enn == labels[i][j]):\n",
    "                        cc += 1\n",
    "                        flag = False\n",
    "    if (cc > maximum):\n",
    "        maximum = cc\n",
    "        maxi = ii       \n",
    "    ii += 1\n",
    "\n",
    "print(maxi, maximum)"
   ]
  },
  {
   "cell_type": "code",
   "execution_count": 7,
   "metadata": {},
   "outputs": [
    {
     "name": "stdout",
     "output_type": "stream",
     "text": [
      "202 230\n",
      "264 295\n"
     ]
    }
   ],
   "source": [
    "labels2 = np.zeros((imgl, imgw)) # 2D array of labels\n",
    "mini, minj = 1000, 1000\n",
    "maxii, maxjj = -1, -1\n",
    "for i in range (0, imgl):\n",
    "    for j in range (0, imgw):\n",
    "        if (labels[i][j] in equality[maxi]): # not labeled\n",
    "            labels2[i][j] = 255\n",
    "            if(i<mini): mini = i\n",
    "            if(i>maxii): maxii = i\n",
    "            if(j<minj): minj = j\n",
    "            if(j>maxjj): maxjj = j  \n",
    "#cv2.imshow('labels2',labels2)\n",
    "#cv2.waitKey(0)\n",
    "#cv2.destroyAllWindows()\n",
    "print(mini, maxii)\n",
    "print(minj, maxjj)"
   ]
  },
  {
   "cell_type": "code",
   "execution_count": 8,
   "metadata": {},
   "outputs": [],
   "source": [
    "img = cv2.resize(img0,(imgw, imgl), interpolation = cv2.INTER_CUBIC) # Resizing image\n",
    "img = cv2.rectangle(img,(minj,mini),(maxjj,maxii),(255,0,0),2)\n",
    "cv2.imwrite('Sample Outputs/' + imname,img) # Save edges\n",
    "cv2.imshow('img',img)\n",
    "cv2.waitKey(0)\n",
    "cv2.destroyAllWindows()"
   ]
  },
  {
   "cell_type": "code",
   "execution_count": null,
   "metadata": {
    "collapsed": true
   },
   "outputs": [],
   "source": []
  },
  {
   "cell_type": "code",
   "execution_count": 329,
   "metadata": {},
   "outputs": [
    {
     "data": {
      "text/plain": [
       "'\\n#0001, 0002 only red, not 0003, 21\\n# red mask\\nlower_red = np.array([0,150,75])\\nupper_red img = cv2.resize(img0,(imgw, imgl), interpolation = cv2.INTER_CUBIC) # Resizing image\\ncircles = cv2.HoughCircles(grayres,cv2.HOUGH_GRADIENT,1,1,param1=50,param2=30,minRadius=30,maxRadius=100)\\ncircles = np.uint16(np.around(circles))\\nfor i in circles[0,:]:\\n# draw the outer circle\\n    cv2.circle(img,(i[0],i[1]),i[2],(0,255,0),2)\\n# draw the center of the circle\\n    cv2.circle(img,(i[0],i[1]),2,(0,0,255),3)= np.array([5,255,255])\\nmaskr = cv2.inRange(hsv, lower_red, upper_red)\\n\\n# yellow mask\\nlower_yellow = np.array([15, 225,100])\\nupper_yellow = np.array([20,255,255])\\n\\n# 0025, 24, 4, 23, 22, 21, 20 (big), 19, \\n# red mask\\nlower_red = np.array([0,125,75])\\nupper_red = np.array([5,255,255])\\nmaskr = cv2.inRange(hsv, lower_red, upper_red)\\n\\n# yellow mask\\nlower_yellow = np.array([15, 150,100])\\nupper_yellow = np.array([25,255,255])\\nmasky = cv2.inRange(hsv, lower_yellow, upper_yellow)\\n'"
      ]
     },
     "execution_count": 329,
     "metadata": {},
     "output_type": "execute_result"
    }
   ],
   "source": [
    "\"\"\"\n",
    "#0001, 0002 only red, not 0003, 21\n",
    "# red mask\n",
    "lower_red = np.array([0,150,75])\n",
    "upper_red img = cv2.resize(img0,(imgw, imgl), interpolation = cv2.INTER_CUBIC) # Resizing image\n",
    "circles = cv2.HoughCircles(grayres,cv2.HOUGH_GRADIENT,1,1,param1=50,param2=30,minRadius=30,maxRadius=100)\n",
    "circles = np.uint16(np.around(circles))\n",
    "for i in circles[0,:]:\n",
    "# draw the outer circle\n",
    "    cv2.circle(img,(i[0],i[1]),i[2],(0,255,0),2)\n",
    "# draw the center of the circle\n",
    "    cv2.circle(img,(i[0],i[1]),2,(0,0,255),3)= np.array([5,255,255])\n",
    "maskr = cv2.inRange(hsv, lower_red, upper_red)\n",
    "\n",
    "# yellow mask\n",
    "lower_yellow = np.array([15, 225,100])\n",
    "upper_yellow = np.array([20,255,255])\n",
    "\n",
    "# 0025, 24, 4, 23, 22, 21, 20 (big), 19, \n",
    "# red mask\n",
    "lower_red = np.array([0,125,75])\n",
    "upper_red = np.array([5,255,255])\n",
    "maskr = cv2.inRange(hsv, lower_red, upper_red)\n",
    "\n",
    "# yellow mask\n",
    "lower_yellow = np.array([15, 150,100])\n",
    "upper_yellow = np.array([25,255,255])\n",
    "masky = cv2.inRange(hsv, lower_yellow, upper_yellow)\n",
    "\"\"\"\n"
   ]
  },
  {
   "cell_type": "code",
   "execution_count": null,
   "metadata": {
    "collapsed": true
   },
   "outputs": [],
   "source": []
  }
 ],
 "metadata": {
  "kernelspec": {
   "display_name": "Python 2",
   "language": "python",
   "name": "python2"
  },
  "language_info": {
   "codemirror_mode": {
    "name": "ipython",
    "version": 2
   },
   "file_extension": ".py",
   "mimetype": "text/x-python",
   "name": "python",
   "nbconvert_exporter": "python",
   "pygments_lexer": "ipython2",
   "version": "2.7.14"
  }
 },
 "nbformat": 4,
 "nbformat_minor": 2
}
